{
 "cells": [
  {
   "cell_type": "markdown",
   "metadata": {},
   "source": [
    "# Mean, Median, Mode, and introducing NumPy"
   ]
  },
  {
   "cell_type": "markdown",
   "metadata": {},
   "source": [
    "## Mean vs. Median"
   ]
  },
  {
   "cell_type": "markdown",
   "metadata": {},
   "source": [
    "Let's create some fake income data, centered around 27,000 with a normal distribution and standard deviation of 15,000, with 10,000 data points. (We'll discuss those terms more later, if you're not familiar with them.)\n",
    "\n",
    "Then, compute the mean (average) - it should be close to 27,000:"
   ]
  },
  {
   "cell_type": "code",
   "execution_count": 5,
   "metadata": {},
   "outputs": [
    {
     "data": {
      "text/plain": [
       "26921.20616874869"
      ]
     },
     "execution_count": 5,
     "metadata": {},
     "output_type": "execute_result"
    }
   ],
   "source": [
    "import numpy as np\n",
    "\n",
    "incomes = np.random.normal(27000, 15000, 10000)\n",
    "np.mean(incomes)"
   ]
  },
  {
   "cell_type": "markdown",
   "metadata": {},
   "source": [
    "We can segment the income data into 50 buckets, and plot it as a histogram:"
   ]
  },
  {
   "cell_type": "code",
   "execution_count": 6,
   "metadata": {},
   "outputs": [
    {
     "data": {
      "image/png": "[encoded data removed]",
      "text/plain": [
       "<Figure size 432x288 with 1 Axes>"
      ]
     },
     "metadata": {
      "needs_background": "light"
     },
     "output_type": "display_data"
    }
   ],
   "source": [
    "%matplotlib inline\n",
    "import matplotlib.pyplot as plt\n",
    "plt.hist(incomes, 50)\n",
    "plt.show()"
   ]
  },
  {
   "cell_type": "markdown",
   "metadata": {},
   "source": [
    "Now compute the median - since we have a nice, even distribution it too should be close to 27,000:"
   ]
  },
  {
   "cell_type": "code",
   "execution_count": 7,
   "metadata": {},
   "outputs": [
    {
     "data": {
      "text/plain": [
       "27055.44957996357"
      ]
     },
     "execution_count": 7,
     "metadata": {},
     "output_type": "execute_result"
    }
   ],
   "source": [
    "np.median(incomes)"
   ]
  },
  {
   "cell_type": "markdown",
   "metadata": {},
   "source": [
    "Now we'll add Jeff Bezos into the mix. Darn income inequality!"
   ]
  },
  {
   "cell_type": "code",
   "execution_count": 8,
   "metadata": {},
   "outputs": [],
   "source": [
    "incomes = np.append(incomes, [1000000000])"
   ]
  },
  {
   "cell_type": "markdown",
   "metadata": {},
   "source": [
    "The median won't change much, but the mean does:"
   ]
  },
  {
   "cell_type": "code",
   "execution_count": 9,
   "metadata": {},
   "outputs": [
    {
     "data": {
      "text/plain": [
       "27055.809438517063"
      ]
     },
     "execution_count": 9,
     "metadata": {},
     "output_type": "execute_result"
    }
   ],
   "source": [
    "np.median(incomes)"
   ]
  },
  {
   "cell_type": "code",
   "execution_count": 10,
   "metadata": {},
   "outputs": [
    {
     "data": {
      "text/plain": [
       "126908.51531721697"
      ]
     },
     "execution_count": 10,
     "metadata": {},
     "output_type": "execute_result"
    }
   ],
   "source": [
    "np.mean(incomes)"
   ]
  },
  {
   "cell_type": "markdown",
   "metadata": {},
   "source": [
    "## Mode"
   ]
  },
  {
   "cell_type": "markdown",
   "metadata": {},
   "source": [
    "Next, let's generate some fake age data for 500 people:"
   ]
  },
  {
   "cell_type": "code",
   "execution_count": 11,
   "metadata": {},
   "outputs": [
    {
     "data": {
      "text/plain": [
       "array([54, 51, 21, 72, 69, 85, 31, 25, 22, 46, 80, 76, 57, 19, 84, 54, 48,\n",
       "       77, 46, 35, 53, 76, 28, 19, 18, 34, 84, 65, 74, 26, 46, 42, 43, 36,\n",
       "       57, 77, 60, 44, 27, 65, 80, 51, 26, 25, 48, 79, 83, 34, 62, 55, 87,\n",
       "       38, 22, 61, 83, 67, 52, 69, 60, 78, 88, 21, 49, 80, 77, 74, 89, 55,\n",
       "       61, 86, 55, 27, 54, 77, 75, 63, 22, 89, 40, 38, 65, 58, 86, 85, 63,\n",
       "       65, 87, 64, 56, 30, 71, 22, 33, 65, 32, 37, 76, 18, 23, 44, 80, 68,\n",
       "       26, 24, 31, 80, 59, 31, 58, 86, 59, 20, 20, 30, 59, 54, 79, 44, 30,\n",
       "       52, 42, 76, 72, 76, 41, 38, 77, 24, 23, 43, 67, 79, 72, 63, 82, 70,\n",
       "       65, 47, 35, 56, 39, 36, 51, 70, 51, 77, 84, 46, 78, 87, 21, 38, 49,\n",
       "       89, 81, 67, 61, 20, 59, 82, 52, 78, 36, 56, 50, 47, 32, 62, 60, 76,\n",
       "       59, 38, 19, 42, 40, 25, 18, 26, 67, 57, 76, 66, 77, 52, 71, 54, 34,\n",
       "       35, 71, 51, 78, 24, 57, 35, 50, 63, 32, 89, 56, 40, 64, 44, 19, 40,\n",
       "       44, 69, 69, 45, 25, 59, 47, 76, 32, 38, 53, 66, 50, 54, 85, 86, 57,\n",
       "       52, 81, 29, 43, 18, 36, 73, 69, 29, 85, 73, 68, 74, 39, 84, 37, 55,\n",
       "       20, 65, 83, 68, 31, 21, 37, 18, 85, 28, 80, 77, 86, 85, 60, 43, 25,\n",
       "       83, 39, 27, 23, 84, 66, 52, 38, 73, 73, 71, 47, 26, 69, 53, 25, 20,\n",
       "       81, 69, 84, 52, 55, 72, 82, 65, 57, 31, 75, 78, 79, 77, 28, 27, 50,\n",
       "       22, 34, 39, 50, 75, 82, 47, 49, 81, 88, 61, 18, 28, 19, 44, 54, 23,\n",
       "       77, 51, 34, 27, 53, 55, 53, 26, 62, 46, 66, 72, 20, 50, 37, 30, 82,\n",
       "       89, 20, 42, 54, 66, 66, 33, 70, 25, 34, 46, 56, 82, 66, 21, 52, 32,\n",
       "       84, 53, 30, 72, 33, 31, 67, 23, 57, 21, 46, 32, 25, 83, 51, 54, 85,\n",
       "       30, 19, 59, 69, 43, 45, 63, 73, 54, 63, 19, 89, 41, 32, 79, 25, 24,\n",
       "       46, 52, 18, 55, 21, 45, 89, 53, 34, 19, 86, 19, 49, 62, 41, 45, 26,\n",
       "       23, 73, 41, 31, 79, 75, 62, 36, 69, 48, 21, 54, 72, 29, 59, 87, 55,\n",
       "       82, 47, 58, 76, 53, 64, 32, 67, 32, 87, 22, 46, 46, 57, 82, 51, 67,\n",
       "       45, 78, 23, 34, 69, 86, 72, 49, 27, 21, 56, 19, 18, 74, 37, 67, 57,\n",
       "       84, 21, 44, 27, 51, 46, 29, 61, 32, 41, 34, 42, 39, 45, 33, 83, 49,\n",
       "       66, 84, 78, 69, 70, 32, 52, 24, 58, 32, 70, 80, 61, 78, 18, 47, 80,\n",
       "       38, 43, 63, 49, 39, 59, 56, 71, 81, 56, 68, 87, 73, 54, 42, 60, 74,\n",
       "       66, 49, 30, 24, 22, 65, 42])"
      ]
     },
     "execution_count": 11,
     "metadata": {},
     "output_type": "execute_result"
    }
   ],
   "source": [
    "ages = np.random.randint(18, high=90, size=500)\n",
    "ages"
   ]
  },
  {
   "cell_type": "code",
   "execution_count": 12,
   "metadata": {},
   "outputs": [
    {
     "data": {
      "text/plain": [
       "ModeResult(mode=array([32]), count=array([12]))"
      ]
     },
     "execution_count": 12,
     "metadata": {},
     "output_type": "execute_result"
    }
   ],
   "source": [
    "from scipy import stats\n",
    "stats.mode(ages)"
   ]
  },
  {
   "cell_type": "code",
   "execution_count": null,
   "metadata": {},
   "outputs": [],
   "source": []
  }
 ],
 "metadata": {
  "kernelspec": {
   "display_name": "Python 3",
   "language": "python",
   "name": "python3"
  },
  "language_info": {
   "codemirror_mode": {
    "name": "ipython",
    "version": 3
   },
   "file_extension": ".py",
   "mimetype": "text/x-python",
   "name": "python",
   "nbconvert_exporter": "python",
   "pygments_lexer": "ipython3",
   "version": "3.7.3"
  }
 },
 "nbformat": 4,
 "nbformat_minor": 1
}
